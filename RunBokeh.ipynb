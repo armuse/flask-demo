{
 "cells": [
  {
   "cell_type": "code",
   "execution_count": 1,
   "metadata": {},
   "outputs": [],
   "source": [
    "import requests\n",
    "import simplejson as json\n",
    "import pandas as pd\n",
    "from bokeh.io import curdoc\n",
    "from bokeh.plotting import figure, output_notebook, show\n"
   ]
  },
  {
   "cell_type": "code",
   "execution_count": 2,
   "metadata": {},
   "outputs": [],
   "source": [
    "def getData():\n",
    "\n",
    "    #get data - future make adjustable\n",
    "    function = 'TIME_SERIES_DAILY_ADJUSTED'\n",
    "    symbol = 'QCOM'\n",
    "    outputsize = 'compact'\n",
    "    apikey = 'Q4Q8JUAPXYPNCYOF'\n",
    "    address = 'https://www.alphavantage.co/query?function=' + function + \\\n",
    "        '&symbol=' + symbol + '&outputsize=' + outputsize + '&apikey=' + apikey\n",
    "\n",
    "    r = requests.get(address).json()\n",
    "    dates =(r['Time Series (Daily)'])\n",
    "\n",
    "    data = pd.DataFrame.from_dict(dates)\n",
    "    result = data.T\n",
    "    #result['Date'] = result.index.values.tolist()\n",
    "    result = result.reset_index()\n",
    "    result.columns = ['Date','open','high','low','close','adjusted close',\\\n",
    "        'volume','divident amount','split coefficient']\n",
    "    result['Date'] = pd.to_datetime(result['Date'],format = '%Y-%m-%d')\n",
    "    #print(result)\n",
    "    #possibly adjust Date to datetime\n",
    "    return result"
   ]
  },
  {
   "cell_type": "code",
   "execution_count": 3,
   "metadata": {},
   "outputs": [
    {
     "name": "stdout",
     "output_type": "stream",
     "text": [
      "         Date      open      high       low     close adjusted close  \\\n",
      "0  2020-09-21  109.1600  112.1400  108.3000  111.9200       111.9200   \n",
      "1  2020-09-18  115.0400  115.4300  109.8000  110.6900       110.6900   \n",
      "2  2020-09-17  111.9200  115.6999  111.0000  114.8800       114.8800   \n",
      "3  2020-09-16  118.0000  118.0000  114.5400  114.5600       114.5600   \n",
      "4  2020-09-15  114.9400  117.8100  114.7900  116.5800       116.5800   \n",
      "..        ...       ...       ...       ...       ...            ...   \n",
      "95 2020-05-06   78.8100   80.1400   78.5200   78.8700        77.8543   \n",
      "96 2020-05-05   76.7500   78.8100   76.5600   77.6300        76.6303   \n",
      "97 2020-05-04   75.1600   75.9400   74.0900   75.6800        74.7054   \n",
      "98 2020-05-01   76.8500   77.5900   74.6800   75.6400        74.6659   \n",
      "99 2020-04-30   80.2700   80.8700   77.2800   78.6700        77.6569   \n",
      "\n",
      "      volume divident amount split coefficient  \n",
      "0    8197611          0.0000            1.0000  \n",
      "1   15443195          0.0000            1.0000  \n",
      "2    7418146          0.0000            1.0000  \n",
      "3    6342106          0.0000            1.0000  \n",
      "4    8773740          0.0000            1.0000  \n",
      "..       ...             ...               ...  \n",
      "95   8179700          0.0000            1.0000  \n",
      "96   7540800          0.0000            1.0000  \n",
      "97   7202400          0.0000            1.0000  \n",
      "98   9742100          0.0000            1.0000  \n",
      "99  17113500          0.0000            1.0000  \n",
      "\n",
      "[100 rows x 9 columns]\n"
     ]
    }
   ],
   "source": [
    "data = getData()"
   ]
  },
  {
   "cell_type": "code",
   "execution_count": 33,
   "metadata": {},
   "outputs": [],
   "source": [
    "data['high'] = pd.to_numeric(data.high)\n",
    "maxY = data['high'].max()\n",
    "data['low'] = pd.to_numeric(data.low)\n",
    "minY = data['low'].min()"
   ]
  },
  {
   "cell_type": "code",
   "execution_count": 34,
   "metadata": {},
   "outputs": [],
   "source": [
    "#output_file('test_graph.html')\n",
    "\n",
    "x = data['Date']\n",
    "y0 = data['open']\n",
    "y1 = data['close']\n",
    "y2 = data['adjusted close']\n",
    "\n",
    "p = figure(tools = 'pan,box_zoom,reset,save', \\\n",
    "    y_axis_label = 'price (USD)', title = 'Stocks', \\\n",
    "    x_axis_label = 'Date', x_axis_type='datetime', y_range = [minY, maxY])\n",
    "p.line(x, y0, legend_label = 'open')\n",
    "p.line(x, y1, legend_label = 'close')\n",
    "p.line(x, y2, legend_label = 'adjusted close')\n",
    "\n",
    "show(p)"
   ]
  },
  {
   "cell_type": "code",
   "execution_count": 22,
   "metadata": {},
   "outputs": [],
   "source": []
  },
  {
   "cell_type": "code",
   "execution_count": 27,
   "metadata": {},
   "outputs": [],
   "source": []
  },
  {
   "cell_type": "code",
   "execution_count": 31,
   "metadata": {},
   "outputs": [],
   "source": []
  },
  {
   "cell_type": "code",
   "execution_count": 29,
   "metadata": {},
   "outputs": [
    {
     "data": {
      "text/plain": [
       "123.9299"
      ]
     },
     "execution_count": 29,
     "metadata": {},
     "output_type": "execute_result"
    }
   ],
   "source": []
  },
  {
   "cell_type": "code",
   "execution_count": null,
   "metadata": {},
   "outputs": [],
   "source": []
  }
 ],
 "metadata": {
  "kernelspec": {
   "display_name": "Python 3",
   "language": "python",
   "name": "python3"
  },
  "language_info": {
   "codemirror_mode": {
    "name": "ipython",
    "version": 3
   },
   "file_extension": ".py",
   "mimetype": "text/x-python",
   "name": "python",
   "nbconvert_exporter": "python",
   "pygments_lexer": "ipython3",
   "version": "3.7.6"
  }
 },
 "nbformat": 4,
 "nbformat_minor": 4
}
